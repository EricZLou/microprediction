{
  "nbformat": 4,
  "nbformat_minor": 0,
  "metadata": {
    "colab": {
      "name": "DefaultCrawler.ipynb",
      "provenance": [],
      "authorship_tag": "ABX9TyPYLh5eXCx/LJU8LVhh4VH1",
      "include_colab_link": true
    },
    "kernelspec": {
      "name": "python3",
      "display_name": "Python 3"
    }
  },
  "cells": [
    {
      "cell_type": "markdown",
      "metadata": {
        "id": "view-in-github",
        "colab_type": "text"
      },
      "source": [
        "<a href=\"https://colab.research.google.com/github/microprediction/microprediction/blob/master/DefaultCrawler.ipynb\" target=\"_parent\"><img src=\"https://colab.research.google.com/assets/colab-badge.svg\" alt=\"Open In Colab\"/></a>"
      ]
    },
    {
      "cell_type": "code",
      "metadata": {
        "id": "5PptYb1M6KnJ"
      },
      "source": [
        "!pip install microprediction"
      ],
      "execution_count": 2,
      "outputs": []
    },
    {
      "cell_type": "code",
      "metadata": {
        "colab": {
          "base_uri": "https://localhost:8080/"
        },
        "id": "jlzNIG777S_y",
        "outputId": "f54ea09b-eadf-4359-c8af-2ae913701e86"
      },
      "source": [
        "from microprediction import MicroCrawler\n",
        "crawler = MicroCrawler()"
      ],
      "execution_count": 3,
      "outputs": [
        {
          "output_type": "stream",
          "text": [
            "A write_key was not supplied, so burning one now of difficulty 10. This will take a while, after which your crawler will be initialized. Save the write_key and next time supply a write_key to the constructor. \n",
            "Your write_key is e60f33c2d21fcb44b781c9bb910b8849. Do not lose!! We recommend a quick visit to http://dev.microprediction.org/dashboard.html where you can punch it in\n"
          ],
          "name": "stdout"
        }
      ]
    },
    {
      "cell_type": "code",
      "metadata": {
        "id": "3NiNuOxR_nAz"
      },
      "source": [
        "crawler.run()"
      ],
      "execution_count": null,
      "outputs": []
    }
  ]
}