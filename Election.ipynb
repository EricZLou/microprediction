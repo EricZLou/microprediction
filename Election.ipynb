{
  "nbformat": 4,
  "nbformat_minor": 0,
  "metadata": {
    "colab": {
      "name": "Election.ipynb",
      "provenance": [],
      "collapsed_sections": [],
      "authorship_tag": "ABX9TyNbT7S2zQflaug24gafvVAv",
      "include_colab_link": true
    },
    "kernelspec": {
      "name": "python3",
      "display_name": "Python 3"
    }
  },
  "cells": [
    {
      "cell_type": "markdown",
      "metadata": {
        "id": "view-in-github",
        "colab_type": "text"
      },
      "source": [
        "<a href=\"https://colab.research.google.com/github/microprediction/microprediction/blob/master/Election.ipynb\" target=\"_parent\"><img src=\"https://colab.research.google.com/assets/colab-badge.svg\" alt=\"Open In Colab\"/></a>"
      ]
    },
    {
      "cell_type": "code",
      "metadata": {
        "id": "_FgpislEMGjs",
        "outputId": "77ddc5b1-4933-4d51-8207-dc3bd2d9e11c",
        "colab": {
          "base_uri": "https://localhost:8080/",
          "height": 35
        }
      },
      "source": [
        "# Data at https://github.com/TheEconomist/us-potus-model/tree/master/data\n",
        "# Thank Andy Gelman and crew for open sourcing this. Shame on you Nate Silver for not doing the same :) \n",
        "\n",
        "import pandas as pd\n",
        "import matplotlib.pyplot as plt\n",
        "plt.rcParams[\"figure.figsize\"] = (10,8)\n",
        "\n",
        "polls16 = pd.read_csv('https://raw.githubusercontent.com/TheEconomist/us-potus-model/master/data/all_polls.csv')\n",
        "polls16['tmc'] = polls16['trump']-polls16['clinton']\n",
        "polls16['end.date'] = pd.to_datetime(polls16['end.date'])\n",
        "# Remove college from name to help difflib along\n",
        "polls16['pollster'] = polls16['pollster'].apply( lambda name: name.replace('College','').replace(\"University\",\"\").replace('Research',''))\n",
        "pollsters16 = list(set(polls16['pollster']))\n",
        "print('There are '+str(len(pollsters16))+' pollsters in 2020')"
      ],
      "execution_count": 587,
      "outputs": [
        {
          "output_type": "stream",
          "text": [
            "There are 260 pollsters in 2020\n"
          ],
          "name": "stdout"
        }
      ]
    },
    {
      "cell_type": "code",
      "metadata": {
        "id": "cC35PDo95EzA"
      },
      "source": [
        "# Parameters you can play with\n",
        "SWING16 = 2   # Minimum percentage swing to Trump in 2016 before a pollster is considered prescient"
      ],
      "execution_count": 588,
      "outputs": []
    },
    {
      "cell_type": "markdown",
      "metadata": {
        "id": "2dG_1dOaf1WW"
      },
      "source": [
        "### 1) Prescient Pollsters\n",
        "Let's look at which polls picked up **changes** in Trump v. Clinton in the last stretch before 2016 election. This means that somehow their sampling methodology might have been lucky in some sense, in sofar as it selected more people who changed their minds towards Trump. It does not imply that the polls are accurate in an absolute sense. "
      ]
    },
    {
      "cell_type": "code",
      "metadata": {
        "id": "juw4jQVcPk6g",
        "outputId": "7645b2b5-6818-4ba0-ebe5-5b4b49a3861f",
        "colab": {
          "base_uri": "https://localhost:8080/",
          "height": 243
        }
      },
      "source": [
        "final16 = polls16.loc[ (polls16['start.date']>'2016-10-01') & (polls16['end.date']<'2016-11-08') & (polls16['population']=='Likely Voters'),:]\n",
        "final16 = final16.sort_values(by='end.date')\n",
        "\n",
        "changes16 = dict()\n",
        "for pollster in pollsters16:\n",
        "  final_polls16 = final16.loc[(final16['pollster']==pollster),:]\n",
        "  if len(final_polls16['tmc'].values)>1:\n",
        "    earliest = final_polls16['tmc'].values[0]\n",
        "    latest = final_polls16['tmc'].values[-1]\n",
        "    change = latest-earliest\n",
        "    changes16[pollster]=change\n",
        "\n",
        "\n",
        "print('Number of pollsters polling twice is '+str(len(changes16)))\n",
        "prescience16 = [ (p,v) for p,v in changes16.items() if v>=SWING16]\n",
        "print('Of these, the number predicting a swing to Trump of at least '+str(SWING16)+' was '+str(len(prescient16)))\n",
        "prescient16 = [ p for p,v in prescience16]\n",
        "print('Some examples of prescient pollsters...')\n",
        "prescience16[:10]"
      ],
      "execution_count": 589,
      "outputs": [
        {
          "output_type": "stream",
          "text": [
            "Number of pollsters polling twice is 71\n",
            "Of these, the number predicting a swing to Trump of at least 2 was 33\n",
            "Some examples of prescient pollsters...\n"
          ],
          "name": "stdout"
        },
        {
          "output_type": "execute_result",
          "data": {
            "text/plain": [
              "[('IBD/TIPP', 2),\n",
              " ('NYT Upshot/Siena', 7),\n",
              " ('Data Orbital (R)', 4),\n",
              " ('Loras ', 7),\n",
              " ('Lucid/The Times-Picayune', 3),\n",
              " ('UPI/CVOTER', 17),\n",
              " ('Siena', 7),\n",
              " ('NBC/WSJ/Marist', 12),\n",
              " ('Suffolk', 2),\n",
              " ('WashPost/SurveyMonkey', 12)]"
            ]
          },
          "metadata": {
            "tags": []
          },
          "execution_count": 589
        }
      ]
    },
    {
      "cell_type": "markdown",
      "metadata": {
        "id": "tLXKxxXc5joc"
      },
      "source": [
        "We will call any other pollster a \"deceived\" pollster"
      ]
    },
    {
      "cell_type": "code",
      "metadata": {
        "id": "zEReIIg7s5uF",
        "outputId": "2273cab0-17a2-441b-a38c-0cf26b402dbf",
        "colab": {
          "base_uri": "https://localhost:8080/",
          "height": 191
        }
      },
      "source": [
        "deception16 = [ (p,v) for p,v in changes16.items() if v<SWING16]\n",
        "deceived16 = [ p for p,_ in deception16]\n",
        "deception16[:10]"
      ],
      "execution_count": 590,
      "outputs": [
        {
          "output_type": "execute_result",
          "data": {
            "text/plain": [
              "[('CBS', -2),\n",
              " ('Magellan (R)', -1),\n",
              " ('SurveyUSA/KSN News', 0),\n",
              " ('SurveyUSA/TWC News North Carolina', 0),\n",
              " ('Opinion Savvy/Fox 5 Atlanta', 0),\n",
              " ('WISH-TV/Ball State ', 0),\n",
              " ('Saint Leo ', -3),\n",
              " ('RABA /Simpson', 1),\n",
              " ('Muhlenberg/Morning Call', 0),\n",
              " ('Baldwin Wallace ', 1)]"
            ]
          },
          "metadata": {
            "tags": []
          },
          "execution_count": 590
        }
      ]
    },
    {
      "cell_type": "markdown",
      "metadata": {
        "id": "h_FYQlYSfthE"
      },
      "source": [
        "### 2) What do they say this time?\n",
        "So what are the prescient and deceived polsters saying this time about ***changes*** in voting in recent weeks? "
      ]
    },
    {
      "cell_type": "code",
      "metadata": {
        "id": "t378enz3fz7l",
        "outputId": "6adf6e14-a358-4c06-ed89-c571277e2d0a",
        "colab": {
          "base_uri": "https://localhost:8080/",
          "height": 35
        }
      },
      "source": [
        "polls20 = pd.read_csv('https://docs.google.com/spreadsheets/d/e/2PACX-1vQ56fySJKLL18Lipu1_i3ID9JE06voJEz2EXm6JW4Vh11zmndyTwejMavuNntzIWLY0RyhA1UsVEen0/pub?gid=0&single=true&output=csv')\n",
        "polls20['tmc'] = polls20['trump']-polls20['biden']\n",
        "polls20['end.date'] = polls20['end.date'].apply(lambda s: s.replace('108','10/8')) # Urgh\n",
        "polls20['end.date'] = pd.to_datetime(polls20['end.date'])\n",
        "polls20 = polls20.sort_values(by='end.date')\n",
        "polls20['pollster'] = polls20['pollster'].apply( lambda name: name.replace('College','').replace('University','').replace('Research',''))\n",
        "final20 = polls20.loc[ (polls20['start.date']>'2020-9-01') & (polls20['population']=='lv'),:]\n",
        "final20 = final20.sort_values(by='end.date')\n",
        "pollsters20=list(set(final20['pollster'].values))\n",
        "print('There are '+str(len(pollsters20))+' pollsters in 2020')\n"
      ],
      "execution_count": 591,
      "outputs": [
        {
          "output_type": "stream",
          "text": [
            "There are 122 pollsters in 2020\n"
          ],
          "name": "stdout"
        }
      ]
    },
    {
      "cell_type": "code",
      "metadata": {
        "id": "00rTz1KqlSy8"
      },
      "source": [
        "import difflib\n",
        "from difflib import SequenceMatcher\n",
        "\n",
        "def similar(a, b):\n",
        "    return SequenceMatcher(None, a, b).ratio()\n",
        "\n",
        "def predictions(selected16):\n",
        "  \"\"\" If supplied a list of pollsters from 2016, will show what they think in 2020  \n",
        "\n",
        "       selected16 : [ str ]. list of pollsters from 2016\n",
        "  \"\"\"\n",
        "  swing20 = list()   \n",
        "  trump20 = dict()   #. pollster:trump lead\n",
        "  for pollster20 in pollsters20:\n",
        "      # Try to match current pollsters to previous \n",
        "      candidates16 = difflib.get_close_matches(pollster20, selected16,n=1) \n",
        "      if len(candidates16):\n",
        "        if similar(candidates16[0],pollster20)>0.3:\n",
        "            match16 = candidates16[0]\n",
        "            print(match16 + ' -> ' + pollster20)\n",
        "            # Look at polls this time around to see if swinging is detected\n",
        "            late20   = final20.loc[(final20['pollster']==pollster20),:]\n",
        "            latest20 = late20['tmc'].values[-1]\n",
        "            trump20[pollster20]=latest20   # Most recent poll Trump-Biden differential,\n",
        "                                  # but more relevant might be .. \n",
        "    \n",
        "            if len(late20['tmc'].values)>1:\n",
        "              # Compute the swing in 2020\n",
        "              earliest20 = late20['tmc'].values[0]\n",
        "              swing20.append(latest20-earliest20)\n",
        "            \n",
        "        else:\n",
        "          print('No match for '+pollster20+ ' in the following list ')\n",
        "          print(candidates16)\n",
        " \n",
        "  plt.hist(swing20,bins=100)\n",
        "  plt.xlabel('Trump Swing 2020')\n",
        "  import numpy as np\n",
        "  print(\"\")\n",
        "  trump_level = np.mean(list(trump20.values()))\n",
        "  trump_swing = np.mean(swing20)\n",
        "  print('Trump advantage '+str(trump_level))\n",
        "  print('Trump swing mean '+str(trump_swing))\n",
        "  print('Trump swing median '+str(np.median(swing20)))\n",
        "  return swing20, trump20 \n",
        "\n"
      ],
      "execution_count": 592,
      "outputs": []
    },
    {
      "cell_type": "code",
      "metadata": {
        "id": "ORBWtpmB8wTv",
        "outputId": "570a74f0-a9a3-4a41-b85c-65f5c10154ae",
        "colab": {
          "base_uri": "https://localhost:8080/",
          "height": 983
        }
      },
      "source": [
        "prescient16\n",
        "prescient20_swings, prescient20_trump = predictions(selected16=prescient16)\n",
        "prescient20_trump\n"
      ],
      "execution_count": 593,
      "outputs": [
        {
          "output_type": "stream",
          "text": [
            "Christopher Newport -> Christopher Newport \n",
            "IBD/TIPP -> IBD/TIPP\n",
            "Y2 Analytics (R) -> DKC Analytics\n",
            "IBD/TIPP -> TIPP\n",
            "Suffolk -> Suffolk \n",
            "Data Orbital (R) -> Data Orbital\n",
            "SurveyUSA/KABC/SCNG -> SurveyUSA\n",
            "CBS/YouGov -> YouGov\n",
            "NYT Upshot/Siena -> NYT/Siena \n",
            "Siena -> Siena \n",
            "Y2 Analytics (R) -> Y2 Analytics\n",
            "Quinnipiac -> Quinnipiac \n",
            "\n",
            "Trump advantage -6.833333333333333\n",
            "Trump swing mean 1.0\n",
            "Trump swing median 1.0\n"
          ],
          "name": "stdout"
        },
        {
          "output_type": "execute_result",
          "data": {
            "text/plain": [
              "{'Christopher Newport ': -5,\n",
              " 'DKC Analytics': -19,\n",
              " 'Data Orbital': -2,\n",
              " 'IBD/TIPP': -3,\n",
              " 'NYT/Siena ': -7,\n",
              " 'Quinnipiac ': 1,\n",
              " 'Siena ': -22,\n",
              " 'Suffolk ': -4,\n",
              " 'SurveyUSA': -27,\n",
              " 'TIPP': -13,\n",
              " 'Y2 Analytics': 10,\n",
              " 'YouGov': 9}"
            ]
          },
          "metadata": {
            "tags": []
          },
          "execution_count": 593
        },
        {
          "output_type": "display_data",
          "data": {
            "image/png": "[encoded data removed]",
            "text/plain": [
              "<Figure size 720x576 with 1 Axes>"
            ]
          },
          "metadata": {
            "tags": [],
            "needs_background": "light"
          }
        }
      ]
    },
    {
      "cell_type": "markdown",
      "metadata": {
        "id": "o6pBBnsOy9Uv"
      },
      "source": [
        "On the other hand ..."
      ]
    },
    {
      "cell_type": "code",
      "metadata": {
        "id": "LrHd8V-9tI70",
        "outputId": "4ba7ab2a-f59b-4f2b-8fe0-62b5966af3c1",
        "colab": {
          "base_uri": "https://localhost:8080/",
          "height": 1000
        }
      },
      "source": [
        "deceived20_swings, deceived20_trump = predictions(selected16=deceived16)\n",
        "deceived20_trump"
      ],
      "execution_count": 594,
      "outputs": [
        {
          "output_type": "stream",
          "text": [
            "Saint Leo  -> Saint Leo \n",
            "Fairleigh Dickinson -> Fairleigh Dickinson \n",
            "Baldwin Wallace  -> Baldwin Wallace \n",
            "Washington Post/GMU -> ABC News/Washington Post\n",
            "Suffolk/USA Today -> Suffolk \n",
            "Remington  Group (R)/Axiom Strategies -> Remington  Group\n",
            "Public Religion  Institute/The Atlantic -> Public Religion  Institute\n",
            "Marquette Law School -> Marquette  Law School\n",
            "SurveyUSA/KSTP-TV -> SurveyUSA\n",
            "Roanoke  -> Roanoke \n",
            "Muhlenberg/Morning Call -> Muhlenberg \n",
            "Monmouth  -> Monmouth \n",
            "Politico/Morning Consult -> Morning Consult\n",
            "\n",
            "Trump advantage -8.846153846153847\n",
            "Trump swing mean -4.2\n",
            "Trump swing median -2.5\n"
          ],
          "name": "stdout"
        },
        {
          "output_type": "execute_result",
          "data": {
            "text/plain": [
              "{'ABC News/Washington Post': -9,\n",
              " 'Baldwin Wallace ': 2,\n",
              " 'Fairleigh Dickinson ': -15,\n",
              " 'Marquette  Law School': -5,\n",
              " 'Monmouth ': -10,\n",
              " 'Morning Consult': -7,\n",
              " 'Muhlenberg ': -4,\n",
              " 'Public Religion  Institute': -13,\n",
              " 'Remington  Group': 5,\n",
              " 'Roanoke ': -14,\n",
              " 'Saint Leo ': -14,\n",
              " 'Suffolk ': -4,\n",
              " 'SurveyUSA': -27}"
            ]
          },
          "metadata": {
            "tags": []
          },
          "execution_count": 594
        },
        {
          "output_type": "display_data",
          "data": {
            "image/png": "[encoded data removed]",
            "text/plain": [
              "<Figure size 720x576 with 1 Axes>"
            ]
          },
          "metadata": {
            "tags": [],
            "needs_background": "light"
          }
        }
      ]
    },
    {
      "cell_type": "code",
      "metadata": {
        "id": "nyrc-oDp_cAR",
        "outputId": "2c2f57a0-7160-4a74-ad7a-56abcab83b2e",
        "colab": {
          "base_uri": "https://localhost:8080/",
          "height": 515
        }
      },
      "source": [
        "plt.hist([deceived20_swings,prescient20_swings], density=True, histtype='bar', bins=30)\n",
        "plt.legend(['deceived','prescient'])\n",
        "plt.xlabel('Swing to Trump')"
      ],
      "execution_count": 597,
      "outputs": [
        {
          "output_type": "execute_result",
          "data": {
            "text/plain": [
              "Text(0.5, 0, 'Swing to Trump')"
            ]
          },
          "metadata": {
            "tags": []
          },
          "execution_count": 597
        },
        {
          "output_type": "display_data",
          "data": {
            "image/png": "[encoded data removed]",
            "text/plain": [
              "<Figure size 720x576 with 1 Axes>"
            ]
          },
          "metadata": {
            "tags": [],
            "needs_background": "light"
          }
        }
      ]
    },
    {
      "cell_type": "code",
      "metadata": {
        "id": "a5R25aPaCfWn",
        "outputId": "933ff0a8-f0d5-46d1-815d-d9f50c8be829",
        "colab": {
          "base_uri": "https://localhost:8080/",
          "height": 297
        }
      },
      "source": [
        "\n",
        "plt.hist([list(deceived20_trump.values()), list(prescient20_trump.values())], density=True, histtype='bar', bins=50)\n",
        "plt.legend(['deceived','prescient'])\n",
        "plt.xlabel('Trump advantage')"
      ],
      "execution_count": 545,
      "outputs": [
        {
          "output_type": "execute_result",
          "data": {
            "text/plain": [
              "Text(0.5, 0, 'Trump advantage')"
            ]
          },
          "metadata": {
            "tags": []
          },
          "execution_count": 545
        },
        {
          "output_type": "display_data",
          "data": {
            "image/png": "[encoded data removed]",
            "text/plain": [
              "<Figure size 432x288 with 1 Axes>"
            ]
          },
          "metadata": {
            "tags": [],
            "needs_background": "light"
          }
        }
      ]
    },
    {
      "cell_type": "code",
      "metadata": {
        "id": "y7w6ZuTBhR0C",
        "outputId": "e5d5a1bf-21b3-4622-9bcf-7f21352839df",
        "colab": {
          "base_uri": "https://localhost:8080/",
          "height": 243
        }
      },
      "source": [
        "deceived20_trump"
      ],
      "execution_count": 546,
      "outputs": [
        {
          "output_type": "execute_result",
          "data": {
            "text/plain": [
              "{'ABC News/Washington Post': -9,\n",
              " 'Baldwin Wallace ': -6,\n",
              " 'Fairleigh Dickinson ': -15,\n",
              " 'Marquette  Law School': -5,\n",
              " 'Monmouth ': -10,\n",
              " 'Morning Consult': -7,\n",
              " 'Muhlenberg ': -4,\n",
              " 'Public Religion  Institute': -13,\n",
              " 'Remington  Group': 5,\n",
              " 'Roanoke ': -14,\n",
              " 'Saint Leo ': -6,\n",
              " 'Suffolk ': -4,\n",
              " 'SurveyUSA': -27}"
            ]
          },
          "metadata": {
            "tags": []
          },
          "execution_count": 546
        }
      ]
    },
    {
      "cell_type": "code",
      "metadata": {
        "id": "_LmsM9mWh67J",
        "outputId": "3dbd102c-5d57-47eb-b6ef-1a2762cceb35",
        "colab": {
          "base_uri": "https://localhost:8080/",
          "height": 225
        }
      },
      "source": [
        "def show_pollster(selected20,lead):\n",
        "  poll = polls20.loc[ (polls20['pollster']==selected20),:]\n",
        "  plt.plot(poll['end.date'],poll['tmc'],'*')\n",
        "  abs_lead = abs(lead)\n",
        "  candidate = 'Biden' if lead<0 else 'Trump'\n",
        "  plt.title(selected20+' ('+candidate+' by '+str(abs_lead)+')')\n",
        "prescient20_trump"
      ],
      "execution_count": 556,
      "outputs": [
        {
          "output_type": "execute_result",
          "data": {
            "text/plain": [
              "{'Christopher Newport ': -5,\n",
              " 'DKC Analytics': -19,\n",
              " 'Data Orbital': -2,\n",
              " 'IBD/TIPP': -3,\n",
              " 'NYT/Siena ': -7,\n",
              " 'Quinnipiac ': -3,\n",
              " 'Siena ': -22,\n",
              " 'Suffolk ': -4,\n",
              " 'SurveyUSA': -27,\n",
              " 'TIPP': -13,\n",
              " 'Y2 Analytics': 10,\n",
              " 'YouGov': 9}"
            ]
          },
          "metadata": {
            "tags": []
          },
          "execution_count": 556
        }
      ]
    },
    {
      "cell_type": "code",
      "metadata": {
        "id": "j5duXuIgospL",
        "outputId": "3adfbc8e-1217-4740-d97d-ef4a553b78ca",
        "colab": {
          "base_uri": "https://localhost:8080/",
          "height": 281
        }
      },
      "source": [
        "# Click this to show a random prescient pollster\n",
        "import random \n",
        "pollster, swg = random.choice( list(prescient20_trump.items()) )\n",
        "show_pollster(pollster,swg)"
      ],
      "execution_count": 570,
      "outputs": [
        {
          "output_type": "display_data",
          "data": {
            "image/png": "[encoded data removed]",
            "text/plain": [
              "<Figure size 432x288 with 1 Axes>"
            ]
          },
          "metadata": {
            "tags": [],
            "needs_background": "light"
          }
        }
      ]
    },
    {
      "cell_type": "code",
      "metadata": {
        "id": "jlv_QtL8sVMR",
        "outputId": "6c13dc5f-41fa-4ced-c7d6-bfbcb6fe5af4",
        "colab": {
          "base_uri": "https://localhost:8080/",
          "height": 281
        }
      },
      "source": [
        "# Click this to show a random deceived pollster\n",
        "import random \n",
        "pollster, swg = random.choice( list(deceived20_trump.items()) )\n",
        "show_pollster(pollster,swg)"
      ],
      "execution_count": 576,
      "outputs": [
        {
          "output_type": "display_data",
          "data": {
            "image/png": "[encoded data removed]",
            "text/plain": [
              "<Figure size 432x288 with 1 Axes>"
            ]
          },
          "metadata": {
            "tags": [],
            "needs_background": "light"
          }
        }
      ]
    }
  ]
}