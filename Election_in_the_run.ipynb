{
  "nbformat": 4,
  "nbformat_minor": 0,
  "metadata": {
    "colab": {
      "name": "Election-in-the-run.ipynb",
      "provenance": [],
      "authorship_tag": "ABX9TyNDaq8v1ozVPwRYxtO/4Thp",
      "include_colab_link": true
    },
    "kernelspec": {
      "name": "python3",
      "display_name": "Python 3"
    }
  },
  "cells": [
    {
      "cell_type": "markdown",
      "metadata": {
        "id": "view-in-github",
        "colab_type": "text"
      },
      "source": [
        "<a href=\"https://colab.research.google.com/github/microprediction/microprediction/blob/master/Election_in_the_run.ipynb\" target=\"_parent\"><img src=\"https://colab.research.google.com/assets/colab-badge.svg\" alt=\"Open In Colab\"/></a>"
      ]
    },
    {
      "cell_type": "code",
      "metadata": {
        "id": "RyU4DJSCyoBC"
      },
      "source": [
        "states = [ ('arizona',1.05,11),\n",
        "           ('michigan',1.17,16),\n",
        "         ('pennsylvania',1.74,20),\n",
        "         ('wisconsin',1.07,10),\n",
        "        ('georgia',2.2,16),\n",
        "        ('nevada',1.20,6),\n",
        "      ('north carolina',4.5,15),\n",
        "      ('maine2',1000000.0,1)]\n",
        "\n",
        "\n",
        "biden = 226\n",
        "trump = 217\n",
        "undecided = sum([a[2] for a in states])\n",
        "total = biden + trump + undecided \n",
        "assert total==538\n",
        "\n"
      ],
      "execution_count": 66,
      "outputs": []
    },
    {
      "cell_type": "code",
      "metadata": {
        "id": "CAqq-B_q356F"
      },
      "source": [
        "import numpy as np\n",
        "def biden_sim():\n",
        "   votes = biden\n",
        "   for s in states:\n",
        "      probability = 1/s[1]\n",
        "      if np.random.rand()<probability:\n",
        "           votes = votes + s[2]\n",
        "   return votes \n",
        "\n",
        "\n"
      ],
      "execution_count": 67,
      "outputs": []
    },
    {
      "cell_type": "code",
      "metadata": {
        "id": "vt0Fk_XY62Pk",
        "outputId": "b42c6ac7-6487-40a4-a94d-3c47ba0444c2",
        "colab": {
          "base_uri": "https://localhost:8080/",
          "height": 315
        }
      },
      "source": [
        "bs = [ biden_sim() for _ in range(50000) ]\n",
        "b_win = np.mean([b>=270 for b in bs])\n",
        "print('Biden win probability is '+str(b_win))\n",
        "import matplotlib.pyplot as plt\n",
        "plt.hist(bs,bins=200)\n",
        "\n",
        "t_win = np.mean([b<=268 for b in bs ])\n",
        "tie = np.mean([b==269 for b in bs ])\n",
        "print('Trump win probability is '+str(t_win))\n",
        "print('Tie probability is '+ str(tie))\n",
        "\n"
      ],
      "execution_count": 78,
      "outputs": [
        {
          "output_type": "stream",
          "text": [
            "Biden win probability is 0.77704\n",
            "Trump win probability is 0.08956\n",
            "Tie probability is 0.1334\n"
          ],
          "name": "stdout"
        },
        {
          "output_type": "display_data",
          "data": {
            "image/png": "[encoded data removed]",
            "text/plain": [
              "<Figure size 432x288 with 1 Axes>"
            ]
          },
          "metadata": {
            "tags": [],
            "needs_background": "light"
          }
        }
      ]
    },
    {
      "cell_type": "code",
      "metadata": {
        "id": "CawcaX9A8Oxt",
        "outputId": "be1eb955-9c93-4716-f4a8-c83b0d7732af",
        "colab": {
          "base_uri": "https://localhost:8080/"
        }
      },
      "source": [
        "biden_270_299 = np.mean([b>=270 and b<=299 for b in bs])\n",
        "1/biden_270_299"
      ],
      "execution_count": 79,
      "outputs": [
        {
          "output_type": "execute_result",
          "data": {
            "text/plain": [
              "1.903601614254169"
            ]
          },
          "metadata": {
            "tags": []
          },
          "execution_count": 79
        }
      ]
    },
    {
      "cell_type": "code",
      "metadata": {
        "id": "SnbDWtWeRLfy",
        "outputId": "0b3b4fe7-ffd9-4700-a1a2-458a0c29b8e4",
        "colab": {
          "base_uri": "https://localhost:8080/"
        }
      },
      "source": [
        "biden_300_329 = np.mean([b>=300 and b<=329 for b in bs])\n",
        "1/biden_300_329"
      ],
      "execution_count": 80,
      "outputs": [
        {
          "output_type": "execute_result",
          "data": {
            "text/plain": [
              "3.9726680438582553"
            ]
          },
          "metadata": {
            "tags": []
          },
          "execution_count": 80
        }
      ]
    },
    {
      "cell_type": "code",
      "metadata": {
        "id": "myupukxp9LF1",
        "outputId": "728d0864-2aac-4298-c903-dcb180ad7ab5",
        "colab": {
          "base_uri": "https://localhost:8080/"
        }
      },
      "source": [
        "biden_240_269 = np.mean([b>=240 and b<=269 for b in bs])\n",
        "1/biden_240_269"
      ],
      "execution_count": 81,
      "outputs": [
        {
          "output_type": "execute_result",
          "data": {
            "text/plain": [
              "4.495190146543199"
            ]
          },
          "metadata": {
            "tags": []
          },
          "execution_count": 81
        }
      ]
    },
    {
      "cell_type": "code",
      "metadata": {
        "id": "2Xhl33WL9ZOz",
        "outputId": "acbfbeb4-017f-4144-b0b0-42be63e482d0",
        "colab": {
          "base_uri": "https://localhost:8080/"
        }
      },
      "source": [
        "biden_210_239 = np.mean([b>=210 and b<=239 for b in bs])\n",
        "1/biden_210_239"
      ],
      "execution_count": 82,
      "outputs": [
        {
          "output_type": "execute_result",
          "data": {
            "text/plain": [
              "2000.0"
            ]
          },
          "metadata": {
            "tags": []
          },
          "execution_count": 82
        }
      ]
    },
    {
      "cell_type": "code",
      "metadata": {
        "id": "2wc5-03i-UqL",
        "outputId": "ff664cab-1b5d-4259-b34e-82f9aa226fa7",
        "colab": {
          "base_uri": "https://localhost:8080/"
        }
      },
      "source": [
        "ts = [538-b for b in bs]\n",
        "trump_270_299 = np.mean([t>=270 and t<=299 for t in ts])\n",
        "1/trump_270_299\n"
      ],
      "execution_count": 83,
      "outputs": [
        {
          "output_type": "execute_result",
          "data": {
            "text/plain": [
              "11.228385358185493"
            ]
          },
          "metadata": {
            "tags": []
          },
          "execution_count": 83
        }
      ]
    },
    {
      "cell_type": "code",
      "metadata": {
        "id": "RIY9lguT-pp9",
        "outputId": "57a5bf39-5af9-4109-c1e8-85b87eb14c19",
        "colab": {
          "base_uri": "https://localhost:8080/"
        }
      },
      "source": [
        "\n",
        "trump_300_329 = np.mean([t>=300 and t<=329 for t in ts])\n",
        "1/trump_300_329"
      ],
      "execution_count": 84,
      "outputs": [
        {
          "output_type": "execute_result",
          "data": {
            "text/plain": [
              "2000.0"
            ]
          },
          "metadata": {
            "tags": []
          },
          "execution_count": 84
        }
      ]
    },
    {
      "cell_type": "code",
      "metadata": {
        "id": "RfJL1ZiJ-5U6",
        "outputId": "397a0ff4-c998-4640-bfb0-d70b8d073413",
        "colab": {
          "base_uri": "https://localhost:8080/"
        }
      },
      "source": [
        "trump_240_269 = np.mean([t>=240 and t<=269 for t in ts])\n",
        "1/trump_240_269"
      ],
      "execution_count": 85,
      "outputs": [
        {
          "output_type": "execute_result",
          "data": {
            "text/plain": [
              "1.5794295100609659"
            ]
          },
          "metadata": {
            "tags": []
          },
          "execution_count": 85
        }
      ]
    },
    {
      "cell_type": "code",
      "metadata": {
        "id": "3Q5duHW6_Ij5",
        "outputId": "b2be0c2b-c468-4070-d06b-03c9ab903986",
        "colab": {
          "base_uri": "https://localhost:8080/"
        }
      },
      "source": [
        "trump_210_239 = np.mean([t>=210 and t<=239 for t in ts])\n",
        "1/trump_210_239"
      ],
      "execution_count": 86,
      "outputs": [
        {
          "output_type": "execute_result",
          "data": {
            "text/plain": [
              "3.606202668589975"
            ]
          },
          "metadata": {
            "tags": []
          },
          "execution_count": 86
        }
      ]
    }
  ]
}