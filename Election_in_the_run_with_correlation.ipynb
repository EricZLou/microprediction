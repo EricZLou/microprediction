{
  "nbformat": 4,
  "nbformat_minor": 0,
  "metadata": {
    "colab": {
      "name": "Election-in-the-run-with-correlation.ipynb",
      "provenance": [],
      "authorship_tag": "ABX9TyOeYmanM/7xwY3HuH1Lwp/C",
      "include_colab_link": true
    },
    "kernelspec": {
      "name": "python3",
      "display_name": "Python 3"
    }
  },
  "cells": [
    {
      "cell_type": "markdown",
      "metadata": {
        "id": "view-in-github",
        "colab_type": "text"
      },
      "source": [
        "<a href=\"https://colab.research.google.com/github/microprediction/microprediction/blob/master/Election_in_the_run_with_correlation.ipynb\" target=\"_parent\"><img src=\"https://colab.research.google.com/assets/colab-badge.svg\" alt=\"Open In Colab\"/></a>"
      ]
    },
    {
      "cell_type": "markdown",
      "metadata": {
        "id": "NQPEj_kVfc2D"
      },
      "source": [
        "# Greetings! \n",
        "\n",
        "You might be here because you think\n",
        "\n",
        "\n",
        "*   Betting markets are far more efficient then Nate Silver or G. Elliott Morris (really can't help you if you insist otherwise - perhaps G. Elliott will offer you 19/1 on Trump LOL) \n",
        "*   Betting markets still requires some interpretation, because many punters are so lazy they don't even run simulations, or because they involve heterogeneous groups and some markets are products of others, approximately. \n",
        "\n",
        "See this post https://www.linkedin.com/posts/petercotton_is-bidens-chance-of-winning-90-percent-or-activity-6730191890530095104-njhk and if you like it, please react on linked-in so the marketting dollar for the open source prediction network goes further. \n",
        "\n",
        "Because it really is a dollar. \n",
        "\n",
        "## Okay then...\n",
        "\n",
        "This notebook provides you with a simple interpretation of market implied state electoral college probabilities, nothing more. It can be used to compute things like the market implied correlation between states, using a very simple correlation model. That may, or may not, provide you with a new perspective on the markets or a lens as to their degree of internal consistency.\n",
        "\n",
        "In using this, rather than the groovy graphics at 538, you are taking a stand against the ridiculous celebritization of statistics and journalistic group-think. \n",
        "\n",
        "```\n",
        "# This is formatted as code\n",
        "```\n",
        "\n"
      ]
    },
    {
      "cell_type": "code",
      "metadata": {
        "id": "RyU4DJSCyoBC",
        "outputId": "0165c916-1ca8-4213-8c61-587f6c22b42d",
        "colab": {
          "base_uri": "https://localhost:8080/"
        }
      },
      "source": [
        "import numpy as np\n",
        "from pprint import pprint\n",
        "import math\n",
        "from scipy.stats import norm\n",
        "   \n",
        "\n",
        "# Current prices for Biden, expressed as inverse probabilities, and electoral votes\n",
        "states = [ ('arizona',1.47,11), ('michigan',1.02,16), ('pennsylvania',1.07,20),\n",
        "          ('georgia',1.17,16),('nevada',1.03,6),  ('north carolina',10,15) ]\n",
        "\n",
        "# Maybe you want to add Wisconsin. \n",
        "# Okay, let's see if this foreignor can get the basic electoral calculus right. \n",
        "# You might want to re-introduce some other states, but if so change the existing totals below: \n",
        "biden = 237\n",
        "trump = 217\n",
        "\n",
        "# Sanity check. \n",
        "undecided = sum([a[2] for a in states])\n",
        "print(undecided)\n",
        "total = biden + trump + undecided \n",
        "print(total)\n",
        "assert total==538\n",
        "\n"
      ],
      "execution_count": 10,
      "outputs": [
        {
          "output_type": "stream",
          "text": [
            "84\n",
            "538\n"
          ],
          "name": "stdout"
        }
      ]
    },
    {
      "cell_type": "code",
      "metadata": {
        "id": "6c2qtU2FvYKF",
        "outputId": "9bf3403b-324d-4021-fdad-e6e9b518218c",
        "colab": {
          "base_uri": "https://localhost:8080/"
        }
      },
      "source": [
        "# Next ... let's write a little guy that simulated from modified state probabilities. Just ignore this if you\n",
        "# don't think there is any correlation between results at this late stage of the race. \n",
        "\n",
        "# Perhaps, however, there is some latent correlation still in the results - related to legal moves or military voting patterns or\n",
        "# consistent bias across state markets. I will merely remark that some correlation is required to make the betting markets coherent, but\n",
        "# also that this implied correlation will not necessarily be justified. \n",
        "\n",
        "def conditional(p:float,rho=None,z=None):\n",
        "  \"\"\" Simulate binary event conditioned on common factor, leaving unconditional probability alone\n",
        "       p   Unconditional probability\n",
        "       z   Gaussian common factor\n",
        "       rho Correlation\n",
        "     (this is a Normal Copula with common off-diagonal entries)\n",
        "  \"\"\"\n",
        "  if p<1e-8:\n",
        "    return 0\n",
        "  elif p>1-1e-8:\n",
        "    return 1\n",
        "  else:\n",
        "    x1 = math.sqrt(1-rho)*np.random.randn() + math.sqrt(rho)*z if z is not None else np.random.randn()\n",
        "    return x1<norm.ppf(p)\n",
        "\n",
        "\n",
        "examples = {'p_z=0':conditional(p=0.5,rho=0.5,z=0),\n",
        "            'p_z=1':conditional(p=0.5,rho=0.5,z=1)}\n",
        "pprint(examples)\n",
        "\n",
        "      "
      ],
      "execution_count": 3,
      "outputs": [
        {
          "output_type": "stream",
          "text": [
            "{'p_z=0': True, 'p_z=1': False}\n"
          ],
          "name": "stdout"
        }
      ]
    },
    {
      "cell_type": "code",
      "metadata": {
        "id": "K0hVoax4HqmM",
        "outputId": "7896d94a-c274-4708-d93b-d2c2441cf041",
        "colab": {
          "base_uri": "https://localhost:8080/"
        }
      },
      "source": [
        "# A quick sanity check. The mean of the conditional draws should be the same as the original probability\n",
        "p_unconditional = 0.22\n",
        "zs = np.random.randn(100000)\n",
        "p_mean = np.mean([ conditional(p=p_unconditional, rho=.7, z=z) for z in zs])\n",
        "pprint( {'p_unconditional':p_unconditional,'mean of p_conditional':p_mean})"
      ],
      "execution_count": 5,
      "outputs": [
        {
          "output_type": "stream",
          "text": [
            "{'mean of p_conditional': 0.22113, 'p_unconditional': 0.22}\n"
          ],
          "name": "stdout"
        }
      ]
    },
    {
      "cell_type": "code",
      "metadata": {
        "id": "CAqq-B_q356F",
        "outputId": "01c611f9-d366-45c7-80f1-c047f65bdd5f",
        "colab": {
          "base_uri": "https://localhost:8080/"
        }
      },
      "source": [
        "# Jolly good. Now let's use this model. \n",
        "# I've added a simple translational bias as well, if you'd rather use that to introduce correlation. \n",
        "\n",
        "BIAS = 0   # If you want to systematically translate all state probs (this is not mean preserving)\n",
        "RHO  = 0.4 # If you want correlation introduced via a Normal Copula with constant off-diagnonal terms\n",
        "\n",
        "\n",
        "def biden_sim() -> int:\n",
        "   \"\"\"\n",
        "      Simulate, once, the number of electoral college votes for Joe Biden\n",
        "   \"\"\"\n",
        "   votes = biden\n",
        "   bias = BIAS*np.random.randn() # Apply the same translation to all states\n",
        "   z = np.random.randn()         # Common latent factor capturing ... you tell me\n",
        "   for s in states:\n",
        "      p = 1/s[1] \n",
        "      conditional_p = conditional(p=p,rho=RHO,z=z)\n",
        "      shifted_p = conditional_p + BIAS\n",
        "      if np.random.rand()<shifted_p:\n",
        "           votes = votes + s[2]\n",
        "   return votes\n",
        "biden_sim()"
      ],
      "execution_count": 7,
      "outputs": [
        {
          "output_type": "execute_result",
          "data": {
            "text/plain": [
              "306"
            ]
          },
          "metadata": {
            "tags": []
          },
          "execution_count": 7
        }
      ]
    },
    {
      "cell_type": "code",
      "metadata": {
        "id": "vt0Fk_XY62Pk",
        "outputId": "e69bcb00-a908-4a73-c9c9-7aa112988948",
        "colab": {
          "base_uri": "https://localhost:8080/",
          "height": 332
        }
      },
      "source": [
        "# Simulate it many times\n",
        "bs = [ biden_sim() for _ in range(50000) ]\n",
        "ts = [538-b for b in bs] # Trump electoral votes \n",
        "b_win = np.mean([b>=270 for b in bs])\n",
        "print('Biden win probability is '+str(b_win))\n",
        "import matplotlib.pyplot as plt\n",
        "plt.hist(bs,bins=200)\n",
        "\n",
        "t_win = np.mean([b<=268 for b in bs ])\n",
        "tie = np.mean([b==269 for b in bs ])\n",
        "print('Trump win probability is '+str(t_win))\n",
        "print('Tie probability is '+ str(tie))\n",
        "b270 = np.mean([b==270 for b in bs])\n",
        "print('Biden=270 probability is '+str(b270))"
      ],
      "execution_count": 8,
      "outputs": [
        {
          "output_type": "stream",
          "text": [
            "Biden win probability is 0.97166\n",
            "Trump win probability is 0.0259\n",
            "Tie probability is 0.00244\n",
            "Biden=270 probability is 0.00654\n"
          ],
          "name": "stdout"
        },
        {
          "output_type": "display_data",
          "data": {
            "image/png": "[encoded data removed]",
            "text/plain": [
              "<Figure size 432x288 with 1 Axes>"
            ]
          },
          "metadata": {
            "tags": [],
            "needs_background": "light"
          }
        }
      ]
    },
    {
      "cell_type": "code",
      "metadata": {
        "id": "CawcaX9A8Oxt",
        "outputId": "3778fbbe-6d84-4c97-ac4b-7d8adb55a5db",
        "colab": {
          "base_uri": "https://localhost:8080/"
        }
      },
      "source": [
        "# Compute inverse probabilities (European quoting convention) for range outcomes\n",
        "prices = {'trump_270_299':1./np.mean([t>=270 and t<=299 for t in ts]),\n",
        "          'trump_300_329':1./np.mean([t>=300 and t<=329 for t in ts]),\n",
        "          'biden_270_299':1./np.mean([b>=270 and b<=299 for b in bs]),\n",
        "          'biden_300_329':1./np.mean([b>=300 and b<=329 for b in bs])}\n",
        "pprint(prices)"
      ],
      "execution_count": 151,
      "outputs": [
        {
          "output_type": "stream",
          "text": [
            "{'biden_270_299': 3.8974199080208907,\n",
            " 'biden_300_329': 1.4747522416234071,\n",
            " 'trump_270_299': 19.23816852635629,\n",
            " 'trump_300_329': 75.75757575757576}\n"
          ],
          "name": "stdout"
        }
      ]
    },
    {
      "cell_type": "code",
      "metadata": {
        "id": "f183xGNRRCpt",
        "outputId": "c1ff38ba-430d-4ede-948a-87ea168f550c",
        "colab": {
          "base_uri": "https://localhost:8080/"
        }
      },
      "source": [
        "# American quoting conventions\n",
        "def pm(p):\n",
        "   if p>0.5:\n",
        "     return '-'+str(round(100*(p/(1-p)),0))\n",
        "   else:\n",
        "     return '+'+str(round(100/p - 100,0))\n",
        "examples = {'p=0.33333':pm(0.333333),\n",
        "            'p=0.75':pm(0.75)}\n",
        "#pprint(examples)\n",
        "\n",
        "prices = {'trump_270_or_more':pm(t_win),\n",
        "          'biden_270_or_more':pm(b_win),\n",
        "          'trump_270_299':pm(np.mean([t>=270 and t<=299 for t in ts])),\n",
        "          'trump_300_329':pm(np.mean([t>=300 and t<=329 for t in ts])),\n",
        "          'biden_270_299':pm(np.mean([b>=270 and b<=299 for b in bs])),\n",
        "          'biden_300_329':pm(np.mean([b>=300 and b<=329 for b in bs]))}\n",
        "pprint(prices)"
      ],
      "execution_count": 147,
      "outputs": [
        {
          "output_type": "stream",
          "text": [
            "{'biden_270_299': '+285.0',\n",
            " 'biden_270_or_more': '-1374.0',\n",
            " 'biden_300_329': '-205.0',\n",
            " 'trump_270_299': '+1734.0',\n",
            " 'trump_270_or_more': '+1380.0',\n",
            " 'trump_300_329': '+7569.0'}\n"
          ],
          "name": "stdout"
        }
      ]
    }
  ]
}