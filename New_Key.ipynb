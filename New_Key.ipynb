{
  "nbformat": 4,
  "nbformat_minor": 0,
  "metadata": {
    "colab": {
      "name": "New_Key.ipynb",
      "provenance": [],
      "authorship_tag": "ABX9TyNCBizi1za200AonGInIiJq",
      "include_colab_link": true
    },
    "kernelspec": {
      "name": "python3",
      "display_name": "Python 3"
    }
  },
  "cells": [
    {
      "cell_type": "markdown",
      "metadata": {
        "id": "view-in-github",
        "colab_type": "text"
      },
      "source": [
        "<a href=\"https://colab.research.google.com/github/microprediction/microprediction/blob/master/New_Key.ipynb\" target=\"_parent\"><img src=\"https://colab.research.google.com/assets/colab-badge.svg\" alt=\"Open In Colab\"/></a>"
      ]
    },
    {
      "cell_type": "code",
      "metadata": {
        "colab": {
          "base_uri": "https://localhost:8080/"
        },
        "id": "QCgJ1PzvDwfN",
        "outputId": "45a41925-6bc3-4f56-ae28-2c49e49bc301"
      },
      "source": [
        "!pip install microprediction"
      ],
      "execution_count": 1,
      "outputs": [
        {
          "output_type": "stream",
          "text": [
            "Collecting microprediction\n",
            "\u001b[?25l  Downloading https://files.pythonhosted.org/packages/70/1a/492e0916bfdd36a54281a060dd90b32b4c2f8b0f5d298b6774926c1ab696/microprediction-0.16.4-py3-none-any.whl (64kB)\n",
            "\u001b[K     |████████████████████████████████| 71kB 4.7MB/s \n",
            "\u001b[?25hRequirement already satisfied: pandas in /usr/local/lib/python3.6/dist-packages (from microprediction) (1.1.5)\n",
            "Requirement already satisfied: statsmodels in /usr/local/lib/python3.6/dist-packages (from microprediction) (0.10.2)\n",
            "Collecting apscheduler\n",
            "\u001b[?25l  Downloading https://files.pythonhosted.org/packages/f3/34/9ef20ed473c4fd2c3df54ef77a27ae3fc7500b16b192add4720cab8b2c09/APScheduler-3.6.3-py2.py3-none-any.whl (58kB)\n",
            "\u001b[K     |████████████████████████████████| 61kB 5.9MB/s \n",
            "\u001b[?25hRequirement already satisfied: requests in /usr/local/lib/python3.6/dist-packages (from microprediction) (2.23.0)\n",
            "Collecting tdigest\n",
            "  Downloading https://files.pythonhosted.org/packages/32/72/f420480118cbdd18eb761b9936f0a927957130659a638449575b4a4f0aa7/tdigest-0.5.2.2-py2.py3-none-any.whl\n",
            "Collecting pycoingecko\n",
            "  Downloading https://files.pythonhosted.org/packages/cf/b6/abf90df392a36fad22c86dfd5d089e2b9ea748a08ca54004113572cf51b0/pycoingecko-1.4.0-py3-none-any.whl\n",
            "Requirement already satisfied: pathlib in /usr/local/lib/python3.6/dist-packages (from microprediction) (1.0.1)\n",
            "Requirement already satisfied: hyperopt in /usr/local/lib/python3.6/dist-packages (from microprediction) (0.1.2)\n",
            "Collecting contexttimer\n",
            "  Downloading https://files.pythonhosted.org/packages/1d/e0/504aa08a83dc2ff90f61a83b5f70d689e1f5138ab30576124ea2ff9f5076/contexttimer-0.3.3.tar.gz\n",
            "Requirement already satisfied: sklearn in /usr/local/lib/python3.6/dist-packages (from microprediction) (0.0)\n",
            "Collecting getjson\n",
            "  Downloading https://files.pythonhosted.org/packages/70/f0/538ef8ccaa16310a7e3ad27538277e2301796fd52ae49fde314f526ee925/getjson-1.0.0-py3-none-any.whl\n",
            "Requirement already satisfied: numpy in /usr/local/lib/python3.6/dist-packages (from microprediction) (1.19.4)\n",
            "Collecting genson\n",
            "  Downloading https://files.pythonhosted.org/packages/e1/71/fbd2f1ad9695c92ad756b91f5a570f809c4959d3bd82266788cf222e5c5c/genson-1.2.2.tar.gz\n",
            "Collecting microconventions==0.4.6\n",
            "  Downloading https://files.pythonhosted.org/packages/c0/26/3adcfa72642c14990f821e88ade830429bb5e61c9ae3f1bf3eb4b9c3068b/microconventions-0.4.6-py3-none-any.whl\n",
            "Requirement already satisfied: pytz>=2017.2 in /usr/local/lib/python3.6/dist-packages (from pandas->microprediction) (2018.9)\n",
            "Requirement already satisfied: python-dateutil>=2.7.3 in /usr/local/lib/python3.6/dist-packages (from pandas->microprediction) (2.8.1)\n",
            "Requirement already satisfied: patsy>=0.4.0 in /usr/local/lib/python3.6/dist-packages (from statsmodels->microprediction) (0.5.1)\n",
            "Requirement already satisfied: scipy>=0.18 in /usr/local/lib/python3.6/dist-packages (from statsmodels->microprediction) (1.4.1)\n",
            "Requirement already satisfied: six>=1.4.0 in /usr/local/lib/python3.6/dist-packages (from apscheduler->microprediction) (1.15.0)\n",
            "Requirement already satisfied: setuptools>=0.7 in /usr/local/lib/python3.6/dist-packages (from apscheduler->microprediction) (50.3.2)\n",
            "Requirement already satisfied: tzlocal>=1.2 in /usr/local/lib/python3.6/dist-packages (from apscheduler->microprediction) (1.5.1)\n",
            "Requirement already satisfied: certifi>=2017.4.17 in /usr/local/lib/python3.6/dist-packages (from requests->microprediction) (2020.12.5)\n",
            "Requirement already satisfied: urllib3!=1.25.0,!=1.25.1,<1.26,>=1.21.1 in /usr/local/lib/python3.6/dist-packages (from requests->microprediction) (1.24.3)\n",
            "Requirement already satisfied: chardet<4,>=3.0.2 in /usr/local/lib/python3.6/dist-packages (from requests->microprediction) (3.0.4)\n",
            "Requirement already satisfied: idna<3,>=2.5 in /usr/local/lib/python3.6/dist-packages (from requests->microprediction) (2.10)\n",
            "Collecting accumulation-tree\n",
            "  Downloading https://files.pythonhosted.org/packages/72/82/6ca16f165b23f24d17303c6f7068be9519cdbe6cba5ad634160c5eeb53e8/accumulation_tree-0.6.2.tar.gz\n",
            "Collecting pyudorandom\n",
            "  Downloading https://files.pythonhosted.org/packages/13/14/6fc20ea903eda547d6a255e995f8d4a09fdc3cf8bfacb6f85e6d669bc259/pyudorandom-1.0.0.tar.gz\n",
            "Requirement already satisfied: tqdm in /usr/local/lib/python3.6/dist-packages (from hyperopt->microprediction) (4.41.1)\n",
            "Requirement already satisfied: networkx in /usr/local/lib/python3.6/dist-packages (from hyperopt->microprediction) (2.5)\n",
            "Requirement already satisfied: pymongo in /usr/local/lib/python3.6/dist-packages (from hyperopt->microprediction) (3.11.2)\n",
            "Requirement already satisfied: future in /usr/local/lib/python3.6/dist-packages (from hyperopt->microprediction) (0.16.0)\n",
            "Requirement already satisfied: scikit-learn in /usr/local/lib/python3.6/dist-packages (from sklearn->microprediction) (0.22.2.post1)\n",
            "Collecting backoff\n",
            "  Downloading https://files.pythonhosted.org/packages/f0/32/c5dd4f4b0746e9ec05ace2a5045c1fc375ae67ee94355344ad6c7005fd87/backoff-1.10.0-py2.py3-none-any.whl\n",
            "Collecting schema\n",
            "  Downloading https://files.pythonhosted.org/packages/6d/ae/835f2e0d304c9533c58fe5cbcdd9124708d32e82289fcb8d6084c908ba29/schema-0.7.2-py2.py3-none-any.whl\n",
            "Collecting muid>=0.5.0\n",
            "\u001b[?25l  Downloading https://files.pythonhosted.org/packages/aa/29/a3d25b533a9b197e711d46a7e2d63497e435de900c293d7f0afbe37d121d/muid-0.5.0-py3-none-any.whl (173kB)\n",
            "\u001b[K     |████████████████████████████████| 174kB 11.9MB/s \n",
            "\u001b[?25hCollecting pymorton\n",
            "  Downloading https://files.pythonhosted.org/packages/c6/8d/906ba6d4266d7696547b8b70e08423975243c7339fe1ccf4bdbc42478394/pymorton-1.0.5-py2.py3-none-any.whl\n",
            "Collecting deepdiff\n",
            "\u001b[?25l  Downloading https://files.pythonhosted.org/packages/67/26/49ccae53188f3bbe1fb6dd77721dd853b5eb5d72a932013931c429713839/deepdiff-5.0.2-py3-none-any.whl (60kB)\n",
            "\u001b[K     |████████████████████████████████| 61kB 7.8MB/s \n",
            "\u001b[?25hRequirement already satisfied: decorator>=4.3.0 in /usr/local/lib/python3.6/dist-packages (from networkx->hyperopt->microprediction) (4.4.2)\n",
            "Requirement already satisfied: joblib>=0.11 in /usr/local/lib/python3.6/dist-packages (from scikit-learn->sklearn->microprediction) (1.0.0)\n",
            "Requirement already satisfied: contextlib2>=0.5.5 in /usr/local/lib/python3.6/dist-packages (from schema->microconventions==0.4.6->microprediction) (0.5.5)\n",
            "Collecting ordered-set>=4.0.1\n",
            "  Downloading https://files.pythonhosted.org/packages/f5/ab/8252360bfe965bba31ec05112b3067bd129ce4800d89e0b85613bc6044f6/ordered-set-4.0.2.tar.gz\n",
            "Building wheels for collected packages: contexttimer, genson, accumulation-tree, pyudorandom, ordered-set\n",
            "  Building wheel for contexttimer (setup.py) ... \u001b[?25l\u001b[?25hdone\n",
            "  Created wheel for contexttimer: filename=contexttimer-0.3.3-cp36-none-any.whl size=5817 sha256=f4449d235e0225c20386892fe2b4acab03abd9b88305d00c1a5dec88f0d13221\n",
            "  Stored in directory: /root/.cache/pip/wheels/b3/e2/35/565145ce0127c7451b6503dfabb2b56e9908c863e40c6b1870\n",
            "  Building wheel for genson (setup.py) ... \u001b[?25l\u001b[?25hdone\n",
            "  Created wheel for genson: filename=genson-1.2.2-py2.py3-none-any.whl size=21262 sha256=3aebbc8af17ab0ef24c591b408acd32693396527859d0426176bcfa94e05c15c\n",
            "  Stored in directory: /root/.cache/pip/wheels/8e/49/09/a13c2bcc61a377c03552c85df8018dcc7706221913759b6707\n",
            "  Building wheel for accumulation-tree (setup.py) ... \u001b[?25l\u001b[?25hdone\n",
            "  Created wheel for accumulation-tree: filename=accumulation_tree-0.6.2-cp36-cp36m-linux_x86_64.whl size=237598 sha256=53008b803b738ea854df45e2aa7a6a5c2c52bc4d09b6c295d13ba6054257d621\n",
            "  Stored in directory: /root/.cache/pip/wheels/a7/76/fa/3fbcbcf87da8668138b93f9668f56e1029f7d72c7f6a51ab1a\n",
            "  Building wheel for pyudorandom (setup.py) ... \u001b[?25l\u001b[?25hdone\n",
            "  Created wheel for pyudorandom: filename=pyudorandom-1.0.0-cp36-none-any.whl size=2227 sha256=68974032ecc243fa9d370bc10d4ee5e6f49e6caa443b0e787104d5a489fb6b71\n",
            "  Stored in directory: /root/.cache/pip/wheels/18/0e/0c/ec5ba8bed98cea9fea1cee32ee83b57a5dfb2974b2777ac5a3\n",
            "  Building wheel for ordered-set (setup.py) ... \u001b[?25l\u001b[?25hdone\n",
            "  Created wheel for ordered-set: filename=ordered_set-4.0.2-py2.py3-none-any.whl size=8210 sha256=c20beded191853ebfc7f822abd4214fb4271af3f9583e44675108d4d80055d98\n",
            "  Stored in directory: /root/.cache/pip/wheels/e1/c6/9b/651d8a21d59b51a75ab9c070838f9231b8126421bc0569af47\n",
            "Successfully built contexttimer genson accumulation-tree pyudorandom ordered-set\n",
            "Installing collected packages: apscheduler, accumulation-tree, pyudorandom, tdigest, pycoingecko, contexttimer, backoff, getjson, genson, schema, muid, pymorton, ordered-set, deepdiff, microconventions, microprediction\n",
            "Successfully installed accumulation-tree-0.6.2 apscheduler-3.6.3 backoff-1.10.0 contexttimer-0.3.3 deepdiff-5.0.2 genson-1.2.2 getjson-1.0.0 microconventions-0.4.6 microprediction-0.16.4 muid-0.5.0 ordered-set-4.0.2 pycoingecko-1.4.0 pymorton-1.0.5 pyudorandom-1.0.0 schema-0.7.2 tdigest-0.5.2.2\n"
          ],
          "name": "stdout"
        }
      ]
    },
    {
      "cell_type": "code",
      "metadata": {
        "id": "VI4g5AuSD7vL"
      },
      "source": [
        "from microprediction import new_key\n",
        "write_key = new_key(difficulty=10)\n",
        "print(write_key)"
      ],
      "execution_count": null,
      "outputs": []
    }
  ]
}