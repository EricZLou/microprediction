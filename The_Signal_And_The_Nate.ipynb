{
  "nbformat": 4,
  "nbformat_minor": 0,
  "metadata": {
    "colab": {
      "name": "The-Signal-And-The-Nate.ipynb",
      "provenance": [],
      "authorship_tag": "ABX9TyPaUBMfzguGmmKWpq5RhDdB",
      "include_colab_link": true
    },
    "kernelspec": {
      "name": "python3",
      "display_name": "Python 3"
    }
  },
  "cells": [
    {
      "cell_type": "markdown",
      "metadata": {
        "id": "view-in-github",
        "colab_type": "text"
      },
      "source": [
        "<a href=\"https://colab.research.google.com/github/microprediction/microprediction/blob/master/The_Signal_And_The_Nate.ipynb\" target=\"_parent\"><img src=\"https://colab.research.google.com/assets/colab-badge.svg\" alt=\"Open In Colab\"/></a>"
      ]
    },
    {
      "cell_type": "code",
      "metadata": {
        "id": "rO-SUYBIV8BV"
      },
      "source": [
        "import pandas as pd\n",
        "nate = pd.read_csv('https://projects.fivethirtyeight.com/2020-general-data/presidential_state_toplines_2020.csv')\n",
        "latest = nate.loc[nate['modeldate']=='11/3/2020',:]\n",
        "trump = latest[['state','winstate_inc']]\n",
        "nate = dict(zip(trump['state'].values,trump['winstate_inc'].values))"
      ],
      "execution_count": 8,
      "outputs": []
    },
    {
      "cell_type": "code",
      "metadata": {
        "id": "zyzfEqG82LA_"
      },
      "source": [
        "predictit_swing = {'Arizona':0.43,'Iowa':0.63,'Georgia':0.57,'Florida':0.58,'Minnesota':0.25,\n",
        "            'New Hampshire':0.21,'Pennsylvania':0.38,'North Carolina':0.47,'Texas':0.71,\n",
        "            'Michigan':0.30,'Wisconsin':0.28,'Ohio':0.68,'Alaska':0.88}\n",
        "trump = {'Arizona':0,'Iowa':1,'Georgia':0.04,'Florida':1,'Minnesota':0,\n",
        "            'New Hampshire':0,'Pennsylvania':0,'North Carolina':0.94,'Texas':1,\n",
        "            'Michigan':0,'Wisconsin':0,'Ohio':1,'Alaska':1}\n",
        "\n"
      ],
      "execution_count": 10,
      "outputs": []
    },
    {
      "cell_type": "code",
      "metadata": {
        "id": "GY4IVAGkMLOz"
      },
      "source": [
        ""
      ],
      "execution_count": null,
      "outputs": []
    },
    {
      "cell_type": "code",
      "metadata": {
        "id": "3-uC5T9zMmqx"
      },
      "source": [
        ""
      ],
      "execution_count": null,
      "outputs": []
    },
    {
      "cell_type": "code",
      "metadata": {
        "id": "z3YiUh5p54ZN",
        "outputId": "f1c7926d-9ca3-4f57-aa25-d94f64983a00",
        "colab": {
          "base_uri": "https://localhost:8080/"
        }
      },
      "source": [
        "nate_swing = dict([(s,p) for s,p in nate.items() if s in predictit_swing])\n",
        "nate_brier = [ (p-trump[s])**2 for s,p in nate_swing.items() ]\n",
        "predictit_brier = [ (p-trump[s])**2 for s,p in predictit_swing.items() ]\n",
        "math.sqrt(np.mean(nate_brier)),math.sqrt(np.mean(predictit_brier))"
      ],
      "execution_count": 11,
      "outputs": [
        {
          "output_type": "execute_result",
          "data": {
            "text/plain": [
              "(0.35474296511428793, 0.3530417277581526)"
            ]
          },
          "metadata": {
            "tags": []
          },
          "execution_count": 11
        }
      ]
    },
    {
      "cell_type": "code",
      "metadata": {
        "id": "yDZq-OTEAh7k",
        "outputId": "7d31f575-d909-44d7-c025-dde5aa8a3b88",
        "colab": {
          "base_uri": "https://localhost:8080/",
          "height": 296
        }
      },
      "source": [
        "import math\n",
        "def adjusted_brier(expon,predictions,result):\n",
        "   fixed = dict([(s,p**expon/(p**expon+(1-p)**expon)) for s,p in predictions.items()])\n",
        "   return math.sqrt(np.mean([ (p-result[s])**2 for s,p in fixed.items() ]))\n",
        "import numpy as np\n",
        "expons =  np.linspace(0.75,2,100)\n",
        "pi_briers = [ adjusted_brier(expon,predictit_swing,trump) for expon in expons]\n",
        "nate_briers = [ adjusted_brier(expon,nate_swing,trump) for expon in expons]\n",
        "import matplotlib.pyplot as plt\n",
        "plt.plot(expons,nate_briers,expons,pi_briers)\n",
        "plt.grid()\n",
        "plt.legend(['538','PredictIt'])\n",
        "plt.xlabel('Longshot effect exponent')\n",
        "plt.ylabel('Brier score')\n"
      ],
      "execution_count": 14,
      "outputs": [
        {
          "output_type": "execute_result",
          "data": {
            "text/plain": [
              "Text(0, 0.5, 'Brier score')"
            ]
          },
          "metadata": {
            "tags": []
          },
          "execution_count": 14
        },
        {
          "output_type": "display_data",
          "data": {
            "image/png": "[encoded data removed]",
            "text/plain": [
              "<Figure size 432x288 with 1 Axes>"
            ]
          },
          "metadata": {
            "tags": [],
            "needs_background": "light"
          }
        }
      ]
    },
    {
      "cell_type": "code",
      "metadata": {
        "id": "8Mxied8GJ7mo",
        "outputId": "331d1bcb-4779-4fee-9d82-476f531d4412",
        "colab": {
          "base_uri": "https://localhost:8080/",
          "height": 296
        }
      },
      "source": [
        "import math\n",
        "def adjusted_loglike(expon,predictions,result):\n",
        "   fixed = dict([(s,p**expon/(p**expon+(1-p)**expon)) for s,p in predictions.items()])\n",
        "   return -np.mean([ math.log(p) if result[s] else math.log(1-p) for s,p in fixed.items() ])\n",
        "expons =  np.linspace(0.75,2,100)\n",
        "pi_ll = [ adjusted_loglike(expon,predictit_swing,trump_more) for expon in expons]\n",
        "nate_ll = [ adjusted_loglike(expon,nate_swing,trump_more) for expon in expons]\n",
        "plt.plot(expons,nate_ll,expons,pi_ll)\n",
        "plt.grid()\n",
        "plt.legend(['538','PredictIt'])\n",
        "plt.xlabel('Longshot effect exponent')\n",
        "plt.ylabel('Negative Log-Likelihood')"
      ],
      "execution_count": 137,
      "outputs": [
        {
          "output_type": "execute_result",
          "data": {
            "text/plain": [
              "Text(0, 0.5, 'Negative Log-Likelihood')"
            ]
          },
          "metadata": {
            "tags": []
          },
          "execution_count": 137
        },
        {
          "output_type": "display_data",
          "data": {
            "image/png": "[encoded data removed]",
            "text/plain": [
              "<Figure size 432x288 with 1 Axes>"
            ]
          },
          "metadata": {
            "tags": [],
            "needs_background": "light"
          }
        }
      ]
    },
    {
      "cell_type": "code",
      "metadata": {
        "id": "4HsOdoNuiIf2",
        "outputId": "62739e81-8dfc-4bdc-c1c1-b12c050666c7",
        "colab": {
          "base_uri": "https://localhost:8080/"
        }
      },
      "source": [
        "adjusted_loglike(1,predictit_swing,trump_more),adjusted_loglike(1,nate_swing,trump_more)"
      ],
      "execution_count": 151,
      "outputs": [
        {
          "output_type": "execute_result",
          "data": {
            "text/plain": [
              "(0.4175868026706624, 0.4345285761879868)"
            ]
          },
          "metadata": {
            "tags": []
          },
          "execution_count": 151
        }
      ]
    },
    {
      "cell_type": "code",
      "metadata": {
        "id": "c75pS5r79x3C",
        "outputId": "39228b26-5af2-41e9-ef7d-fb8959b14f39",
        "colab": {
          "base_uri": "https://localhost:8080/"
        }
      },
      "source": [
        "comparison = [ (s,trump[s],predictit_swing[s],nate_swing[s]) for s in trump]\n",
        "comparison"
      ],
      "execution_count": 121,
      "outputs": [
        {
          "output_type": "execute_result",
          "data": {
            "text/plain": [
              "[('Arizona', 0, 0.43, 0.319775),\n",
              " ('Iowa', 1, 0.63, 0.6013),\n",
              " ('Georgia', 0.04, 0.57, 0.418475),\n",
              " ('Florida', 1, 0.58, 0.309),\n",
              " ('Minnesota', 0, 0.25, 0.0419),\n",
              " ('New Hampshire', 0, 0.21, 0.10915),\n",
              " ('Pennsylvania', 0, 0.38, 0.1569),\n",
              " ('North Carolina', 0.94, 0.47, 0.360675),\n",
              " ('Texas', 1, 0.71, 0.617525),\n",
              " ('Michigan', 0, 0.3, 0.053175),\n",
              " ('Wisconsin', 0, 0.28, 0.056425),\n",
              " ('Ohio', 1, 0.68, 0.546725),\n",
              " ('Alaska', 1, 0.88, 0.8505)]"
            ]
          },
          "metadata": {
            "tags": []
          },
          "execution_count": 121
        }
      ]
    },
    {
      "cell_type": "code",
      "metadata": {
        "id": "R0PDqINP8Bog",
        "outputId": "dda3d2a6-46b7-48ce-daa0-d1bd522678f1",
        "colab": {
          "base_uri": "https://localhost:8080/"
        }
      },
      "source": [
        "errors = [ (s,trump[s]-predictit_swing[s],trump[s]-nate_swing[s]) for s in trump]\n",
        "errors"
      ],
      "execution_count": 112,
      "outputs": [
        {
          "output_type": "execute_result",
          "data": {
            "text/plain": [
              "[('Arizona', -0.43, -0.319775),\n",
              " ('Iowa', 0.37, 0.39870000000000005),\n",
              " ('Georgia', -0.5299999999999999, -0.378475),\n",
              " ('Florida', 0.42000000000000004, 0.6910000000000001),\n",
              " ('Minnesota', -0.25, -0.0419),\n",
              " ('New Hampshire', -0.21, -0.10915),\n",
              " ('Pennsylvania', -0.38, -0.1569),\n",
              " ('North Carolina', 0.47, 0.5793249999999999),\n",
              " ('Texas', 0.29000000000000004, 0.382475),\n",
              " ('Michigan', -0.3, -0.053175),\n",
              " ('Wisconsin', -0.28, -0.056425),\n",
              " ('Ohio', 0.31999999999999995, 0.453275),\n",
              " ('Alaska', 0.12, 0.14949999999999997)]"
            ]
          },
          "metadata": {
            "tags": []
          },
          "execution_count": 112
        }
      ]
    },
    {
      "cell_type": "markdown",
      "metadata": {
        "id": "jCTHNfq9PD9f"
      },
      "source": [
        "## Adding more states "
      ]
    },
    {
      "cell_type": "code",
      "metadata": {
        "id": "A7O604G2MoAH",
        "outputId": "30af97fe-625a-4c3a-b27e-1d737edd2112",
        "colab": {
          "base_uri": "https://localhost:8080/"
        }
      },
      "source": [
        "predictit_more = {'California':0.06,'Washington':0.06,'Oregon':0.097,\n",
        "                  'North Dakota':0.96,'South Dakota':0.97,'Nebraska':0.97,\n",
        "                  'Kansas':0.96,'Virginia':0.07,'Mississippi':0.94,'Louisiana':0.97}\n",
        "trump_more = {'California':0,'Washington':0,'Oregon':0,\n",
        "              'North Dakota':1,'South Dakota':1,'Nebraska':1,'Kansas':1,\n",
        "              'Virginia':0,'Mississippi':1,'Louisiana':1}\n",
        "predictit_more.update(predictit_swing)\n",
        "trump_more.update(trump)\n",
        "trump_more\n",
        "\n"
      ],
      "execution_count": 7,
      "outputs": [
        {
          "output_type": "execute_result",
          "data": {
            "text/plain": [
              "{'Alaska': 1,\n",
              " 'Arizona': 0,\n",
              " 'California': 0,\n",
              " 'Florida': 1,\n",
              " 'Georgia': 0.04,\n",
              " 'Iowa': 1,\n",
              " 'Kansas': 1,\n",
              " 'Louisiana': 1,\n",
              " 'Michigan': 0,\n",
              " 'Minnesota': 0,\n",
              " 'Mississippi': 1,\n",
              " 'Nebraska': 1,\n",
              " 'New Hampshire': 0,\n",
              " 'North Carolina': 0.94,\n",
              " 'North Dakota': 1,\n",
              " 'Ohio': 1,\n",
              " 'Oregon': 0,\n",
              " 'Pennsylvania': 0,\n",
              " 'South Dakota': 1,\n",
              " 'Texas': 1,\n",
              " 'Virginia': 0,\n",
              " 'Washington': 0,\n",
              " 'Wisconsin': 0}"
            ]
          },
          "metadata": {
            "tags": []
          },
          "execution_count": 7
        }
      ]
    },
    {
      "cell_type": "code",
      "metadata": {
        "id": "pZ7tIzMCN2P-",
        "outputId": "27dba010-16c6-47e2-a57b-4ba2e992d8d4",
        "colab": {
          "base_uri": "https://localhost:8080/",
          "height": 296
        }
      },
      "source": [
        "nate_more = dict([(s,p) for s,p in nate.items() if s in predictit_more])\n",
        "\n",
        "# Does it make a difference??\n",
        "\n",
        "expons =  np.linspace(0.5,2,100)\n",
        "pi_briers = [ adjusted_brier(expon,predictit_more,trump_more) for expon in expons]\n",
        "nate_briers = [ adjusted_brier(expon,nate_more,trump_more) for expon in expons]\n",
        "import matplotlib.pyplot as plt\n",
        "plt.plot(expons,nate_briers,expons,pi_briers)\n",
        "plt.grid()\n",
        "plt.legend(['538','PredictIt'])\n",
        "plt.xlabel('Longshot effect exponent (more states)')\n",
        "plt.ylabel('Brier score')"
      ],
      "execution_count": 15,
      "outputs": [
        {
          "output_type": "execute_result",
          "data": {
            "text/plain": [
              "Text(0, 0.5, 'Brier score')"
            ]
          },
          "metadata": {
            "tags": []
          },
          "execution_count": 15
        },
        {
          "output_type": "display_data",
          "data": {
            "image/png": "[encoded data removed]",
            "text/plain": [
              "<Figure size 432x288 with 1 Axes>"
            ]
          },
          "metadata": {
            "tags": [],
            "needs_background": "light"
          }
        }
      ]
    }
  ]
}