{
  "nbformat": 4,
  "nbformat_minor": 0,
  "metadata": {
    "colab": {
      "name": "2nd and 1.ipynb",
      "provenance": [],
      "authorship_tag": "ABX9TyNWfnScVne3sPOViY/9TKT3",
      "include_colab_link": true
    },
    "kernelspec": {
      "name": "python3",
      "display_name": "Python 3"
    }
  },
  "cells": [
    {
      "cell_type": "markdown",
      "metadata": {
        "id": "view-in-github",
        "colab_type": "text"
      },
      "source": [
        "<a href=\"https://colab.research.google.com/github/microprediction/microprediction/blob/master/NFL_2nd_and_1.ipynb\" target=\"_parent\"><img src=\"https://colab.research.google.com/assets/colab-badge.svg\" alt=\"Open In Colab\"/></a>"
      ]
    },
    {
      "cell_type": "code",
      "metadata": {
        "id": "bASjzoIUTneR"
      },
      "source": [
        "import pandas as pd\n",
        "df = pd.read_csv('https://raw.githubusercontent.com/microprediction/nflMarkov/master/inputData/pbp_nfldb_2009_2013.csv')"
      ],
      "execution_count": 2,
      "outputs": []
    },
    {
      "cell_type": "markdown",
      "metadata": {
        "id": "soQTR64QXTRx"
      },
      "source": [
        "This notebook seeks to destroy 100 years of American football strategy by showing that players should not try to get the first down. \n",
        "\n",
        "Not always, anyway. \n",
        "\n",
        "### Question (1) Should you run or pass on third and 1 ??"
      ]
    },
    {
      "cell_type": "markdown",
      "metadata": {
        "id": "6peWhkVMfAye"
      },
      "source": [
        "This is a little side question I was curious about. We need some facts about 3rd and 1 in what follows. The result is maybe slightly counter-intuitive but hardly revolutionary. "
      ]
    },
    {
      "cell_type": "code",
      "metadata": {
        "id": "Av65hAf8T2r5",
        "outputId": "88196f92-bf43-4d68-8913-4cfb1b04e4ea",
        "colab": {
          "base_uri": "https://localhost:8080/",
          "height": 141
        }
      },
      "source": [
        "df['got_1'] = df['yds']>=1\n",
        "records = df.to_dict(orient='records')\n",
        "third_and_1 = df[['dwn','ytg','yfog','type','got_1']].loc[(df['dwn']==3) & (df['ytg']==1) & (df['yfog']<50),:]\n",
        "third_and_1.groupby(by=['type']).mean()"
      ],
      "execution_count": 25,
      "outputs": [
        {
          "output_type": "execute_result",
          "data": {
            "text/html": [
              "<div>\n",
              "<style scoped>\n",
              "    .dataframe tbody tr th:only-of-type {\n",
              "        vertical-align: middle;\n",
              "    }\n",
              "\n",
              "    .dataframe tbody tr th {\n",
              "        vertical-align: top;\n",
              "    }\n",
              "\n",
              "    .dataframe thead th {\n",
              "        text-align: right;\n",
              "    }\n",
              "</style>\n",
              "<table border=\"1\" class=\"dataframe\">\n",
              "  <thead>\n",
              "    <tr style=\"text-align: right;\">\n",
              "      <th></th>\n",
              "      <th>dwn</th>\n",
              "      <th>ytg</th>\n",
              "      <th>yfog</th>\n",
              "      <th>got_1</th>\n",
              "    </tr>\n",
              "    <tr>\n",
              "      <th>type</th>\n",
              "      <th></th>\n",
              "      <th></th>\n",
              "      <th></th>\n",
              "      <th></th>\n",
              "    </tr>\n",
              "  </thead>\n",
              "  <tbody>\n",
              "    <tr>\n",
              "      <th>PASS</th>\n",
              "      <td>3.0</td>\n",
              "      <td>1.0</td>\n",
              "      <td>33.500000</td>\n",
              "      <td>0.609804</td>\n",
              "    </tr>\n",
              "    <tr>\n",
              "      <th>RUSH</th>\n",
              "      <td>3.0</td>\n",
              "      <td>1.0</td>\n",
              "      <td>33.281056</td>\n",
              "      <td>0.721273</td>\n",
              "    </tr>\n",
              "  </tbody>\n",
              "</table>\n",
              "</div>"
            ],
            "text/plain": [
              "      dwn  ytg       yfog     got_1\n",
              "type                               \n",
              "PASS  3.0  1.0  33.500000  0.609804\n",
              "RUSH  3.0  1.0  33.281056  0.721273"
            ]
          },
          "metadata": {
            "tags": []
          },
          "execution_count": 25
        }
      ]
    },
    {
      "cell_type": "markdown",
      "metadata": {
        "id": "RMAMXWrWXfBx"
      },
      "source": [
        "Sure looks like you should RUSH ... even though the other team knows this. But this doesn't account for catching the other team off guard with a huge running play. "
      ]
    },
    {
      "cell_type": "code",
      "metadata": {
        "id": "A3UP73RWXvBz",
        "outputId": "d905f516-30c1-4eeb-e09d-adec780270a9",
        "colab": {
          "base_uri": "https://localhost:8080/",
          "height": 141
        }
      },
      "source": [
        "third_and_1_got_it = df[['dwn','ytg','yfog','type','yds']].loc[(df['dwn']==3) & (df['ytg']==1) & (df['yfog']<50) & df['got_1']==True,:]\n",
        "third_and_1_got_it.groupby(by=['type']).mean()"
      ],
      "execution_count": 28,
      "outputs": [
        {
          "output_type": "execute_result",
          "data": {
            "text/html": [
              "<div>\n",
              "<style scoped>\n",
              "    .dataframe tbody tr th:only-of-type {\n",
              "        vertical-align: middle;\n",
              "    }\n",
              "\n",
              "    .dataframe tbody tr th {\n",
              "        vertical-align: top;\n",
              "    }\n",
              "\n",
              "    .dataframe thead th {\n",
              "        text-align: right;\n",
              "    }\n",
              "</style>\n",
              "<table border=\"1\" class=\"dataframe\">\n",
              "  <thead>\n",
              "    <tr style=\"text-align: right;\">\n",
              "      <th></th>\n",
              "      <th>dwn</th>\n",
              "      <th>ytg</th>\n",
              "      <th>yfog</th>\n",
              "      <th>yds</th>\n",
              "    </tr>\n",
              "    <tr>\n",
              "      <th>type</th>\n",
              "      <th></th>\n",
              "      <th></th>\n",
              "      <th></th>\n",
              "      <th></th>\n",
              "    </tr>\n",
              "  </thead>\n",
              "  <tbody>\n",
              "    <tr>\n",
              "      <th>PASS</th>\n",
              "      <td>3.0</td>\n",
              "      <td>1.0</td>\n",
              "      <td>33.315113</td>\n",
              "      <td>12.755627</td>\n",
              "    </tr>\n",
              "    <tr>\n",
              "      <th>RUSH</th>\n",
              "      <td>3.0</td>\n",
              "      <td>1.0</td>\n",
              "      <td>33.399354</td>\n",
              "      <td>5.022605</td>\n",
              "    </tr>\n",
              "  </tbody>\n",
              "</table>\n",
              "</div>"
            ],
            "text/plain": [
              "      dwn  ytg       yfog        yds\n",
              "type                                \n",
              "PASS  3.0  1.0  33.315113  12.755627\n",
              "RUSH  3.0  1.0  33.399354   5.022605"
            ]
          },
          "metadata": {
            "tags": []
          },
          "execution_count": 28
        }
      ]
    },
    {
      "cell_type": "markdown",
      "metadata": {
        "id": "1F88YkCjYLGm"
      },
      "source": [
        "So when completing a third and 1, we get an average of 7.75 more yards on the pass compared to the run. Thus the question becomes, would you sacrifice 11% chance of first down for an extra 8 yards? \n",
        "\n",
        "My gut says go for the extra 7.75 yards. \n",
        "\n",
        "The key question here is, what is the value of a possession?In this and the following analysis we will use and approximate \"fact\", that the expected points scored on a drive varies from 1 to 6, roughly as we move from our own 30-ish yrd line to our 90-ish yrd line. Very approximately, anyway, so 18 yards is worth a point - let's say. \n",
        "\n",
        "On the other hand losing possession is worth -2 points, very roughly. For instance you can think about a punt from one's 40 yard line to the opponents 20. \n",
        "\n",
        "So, returning to our question, it seems to me that the extra 11% chance of losing possession when passing on 3rd and 1 instead of rushing, costs us about 0.2 points, whereas the extra yards we get passing are worth almost half a point. \n",
        "\n",
        "Or if you prefer, notice that one possession is worth 40 yards, say, whereas 11% chance of losing possession is therefore 4.4 yards... much less than 7.75 extra yards.\n",
        "\n",
        "Thus, you should pass on 3rd and 1. They won't be expecting it. \n",
        "\n",
        "\n",
        "Moving on..."
      ]
    },
    {
      "cell_type": "markdown",
      "metadata": {
        "id": "cIboE-lNZSne"
      },
      "source": [
        "### Should you stretch out for the first down if you have made 9 yards? \n",
        "\n",
        "Maybe the previous analysis doesn't surprise you. After all, how often do we see a defensive blitz open up the field and with it, the concession of a huge touchdown play on 3rd and 1? \n",
        "\n",
        "But now I will really rile you up. \n",
        "\n",
        "The first down has been onsidered a holy destination ... to be achieved whenever players can. How often do you see someone compleminted because after they catch they made the extra few yards to get the first down? \n",
        "\n",
        "Thing is ... this has never struck me as sensible, at least on the first down. I set out to prove that if a player can only just get to the first down (I mean literally stretch out and get the ball to the first down line) they are better off not making the first down at all.  \n",
        "\n",
        "In other words, I claim that 2nd and 1 is a better position to be in than 1st and 10 (even accounting for that extra yard)\n",
        "This is the real reason I wanted to look at the 3rd and 1 data, as above, because we'd be needing it. \n",
        "\n",
        "### A new strategy on first down\n",
        "\n",
        "I'm going to pretend we have said to our players \"look, don't stretch out for the first down - take the 9 yards and we'll rush the next two plays\". \n",
        "\n",
        "Minor point: of course there is no reason to rush every time from 2nd and 1, but that is ONE sub-strategy and it suffices to show that ONE sub-strategy makes the original decision (not getting the first down) the right one. \n",
        "\n",
        "Now, we have seen what happens on 3rd and 1, rushing. Roughly 72% of the time you you get an average of 5 yards. Otherwise you lose possession. \n",
        "\n",
        "Now, if you are 2nd and 1, let's see what happens typically. We will simplify by staying in the first half of the field.  \n"
      ]
    },
    {
      "cell_type": "code",
      "metadata": {
        "id": "X84A93FHZ26x",
        "outputId": "3bdf8594-23f1-4963-f233-86e987d45af9",
        "colab": {
          "base_uri": "https://localhost:8080/",
          "height": 121
        }
      },
      "source": [
        "second_and_1 = df[['dwn','ytg','yfog','type','got_1','yds']].loc[(df['dwn']==2) & (df['ytg']==1) & (df['yfog']<50),:]\n",
        "second_and_1.mean()"
      ],
      "execution_count": 31,
      "outputs": [
        {
          "output_type": "execute_result",
          "data": {
            "text/plain": [
              "dwn       2.000000\n",
              "ytg       1.000000\n",
              "yfog     34.038610\n",
              "got_1     0.725097\n",
              "yds       5.302703\n",
              "dtype: float64"
            ]
          },
          "metadata": {
            "tags": []
          },
          "execution_count": 31
        }
      ]
    },
    {
      "cell_type": "markdown",
      "metadata": {
        "id": "3t-5Hjy7aLC-"
      },
      "source": [
        "The chance of making at least 1 yard is also 72 percent. By coincidence, I would say. "
      ]
    },
    {
      "cell_type": "code",
      "metadata": {
        "id": "TbIY4OLJZQU2",
        "outputId": "24048814-e7cb-47f5-fe5c-adfc29540650",
        "colab": {
          "base_uri": "https://localhost:8080/",
          "height": 141
        }
      },
      "source": [
        "second_and_1.groupby(by='type').mean()"
      ],
      "execution_count": 32,
      "outputs": [
        {
          "output_type": "execute_result",
          "data": {
            "text/html": [
              "<div>\n",
              "<style scoped>\n",
              "    .dataframe tbody tr th:only-of-type {\n",
              "        vertical-align: middle;\n",
              "    }\n",
              "\n",
              "    .dataframe tbody tr th {\n",
              "        vertical-align: top;\n",
              "    }\n",
              "\n",
              "    .dataframe thead th {\n",
              "        text-align: right;\n",
              "    }\n",
              "</style>\n",
              "<table border=\"1\" class=\"dataframe\">\n",
              "  <thead>\n",
              "    <tr style=\"text-align: right;\">\n",
              "      <th></th>\n",
              "      <th>dwn</th>\n",
              "      <th>ytg</th>\n",
              "      <th>yfog</th>\n",
              "      <th>got_1</th>\n",
              "      <th>yds</th>\n",
              "    </tr>\n",
              "    <tr>\n",
              "      <th>type</th>\n",
              "      <th></th>\n",
              "      <th></th>\n",
              "      <th></th>\n",
              "      <th></th>\n",
              "      <th></th>\n",
              "    </tr>\n",
              "  </thead>\n",
              "  <tbody>\n",
              "    <tr>\n",
              "      <th>PASS</th>\n",
              "      <td>2.0</td>\n",
              "      <td>1.0</td>\n",
              "      <td>33.597087</td>\n",
              "      <td>0.560680</td>\n",
              "      <td>6.521845</td>\n",
              "    </tr>\n",
              "    <tr>\n",
              "      <th>RUSH</th>\n",
              "      <td>2.0</td>\n",
              "      <td>1.0</td>\n",
              "      <td>34.244621</td>\n",
              "      <td>0.801812</td>\n",
              "      <td>4.733862</td>\n",
              "    </tr>\n",
              "  </tbody>\n",
              "</table>\n",
              "</div>"
            ],
            "text/plain": [
              "      dwn  ytg       yfog     got_1       yds\n",
              "type                                         \n",
              "PASS  2.0  1.0  33.597087  0.560680  6.521845\n",
              "RUSH  2.0  1.0  34.244621  0.801812  4.733862"
            ]
          },
          "metadata": {
            "tags": []
          },
          "execution_count": 32
        }
      ]
    },
    {
      "cell_type": "markdown",
      "metadata": {
        "id": "H9bZxVc8ab9x"
      },
      "source": [
        "Note that (no surprise) one is vastly more likely to make the first down rushing. A huge 80% chance because the defence plays very differently. And when we rush, we get an average of 4.7 yards. (Aside: teams tend to rush less often on 2nd and 1 than 3rd and 1, so the odds even out to 72%). \n",
        "\n",
        "But here's the rub. If we fail to get the 1 yrd on 2nd down, it is still 3rd down and we will, as we have seen above, have a 0.72 chance of getting the yard we need. And when we do, we'll make an average of 5 yrds. So, noting that..."
      ]
    },
    {
      "cell_type": "code",
      "metadata": {
        "id": "7IZIEhaKa8xN",
        "outputId": "c4ee1d46-8264-4e57-a894-615f7bcc4419",
        "colab": {
          "base_uri": "https://localhost:8080/",
          "height": 35
        }
      },
      "source": [
        "1/((1-0.8)*(1-0.72))"
      ],
      "execution_count": 34,
      "outputs": [
        {
          "output_type": "execute_result",
          "data": {
            "text/plain": [
              "17.857142857142858"
            ]
          },
          "metadata": {
            "tags": []
          },
          "execution_count": 34
        }
      ]
    },
    {
      "cell_type": "markdown",
      "metadata": {
        "id": "khbKyhE7bBls"
      },
      "source": [
        "Showing that there is only a 1/18 chance of giving up possession because we voluntarily elected *not* to get the 1st down. The calculus is now very easy. Going back to our original decision, if we decide to stretch out and get the first down then we will be 1 yard further ahead than if we stop at 9 yards. On the other hand, if we stop and play 2nd and 1 and then make at least one rushing play (or two if needed) we will, with roughly 94% chance, advance 4.9 yards to a 1st down which will be 3.9 yards on average further down the field. So the only question is, would you accept a 6% chance of losing possession (assuming punt) in exchange for 4 yards? Remember that this isn't a 4th and 1 situation. We will be punting regardless. And we'll assume that we are midfield somewhere expecting a net punt of a little over 40 yards. A change of possession is probably going to cost us a tad over 2 points. We can think of a loss of possession directly in yards, in fact. So let's call it 40 yards. \n",
        "\n",
        "I say ... don't take the extra yard! \n",
        "\n",
        "You have ... 6%  chance of losing 40 yards when you stop at 9 yards and voluntarily don't get the first down ... but 94% chance of making an extra 4 yards, on average. \n",
        "\n",
        "You can quibble with my valuation of a loss of possession if you like, but I doubt very much you can make the first down stretch look like good strategy. \n",
        "\n",
        "In order for that last yard stretch to be a good idea, you need the value of a possession to correspond to roughly 17 multiplied by the average yards gained minus one. In other words, you need possession to be valued at roughly 66.3 yards. There is no way that's true, even if you have the best Australian rules punter on your team. \n",
        "\n",
        "### Conclusion\n",
        "\n",
        "So there you have it. 2nd and 1, less 1 yard, beats 1st and 10. It isn't even close. Tell your players to resist the urge to get just 1 more yards if it is still your first down. \n",
        "\n",
        "Interestingly, note that 2.9*17=49 so this means that you should stop at 9 yards even if you can get another 2 yards, unless you are given to thinking that posession is worth more than 49 yards. It surely is not. So tell them to stop at 9 yards unless they can make another 3 yards, or maybe even 4. \n",
        "\n",
        "\n",
        "\n",
        "\n",
        "\n",
        "\n",
        "\n",
        "\n",
        "\n",
        "\n",
        "\n",
        "\n",
        "\n",
        "\n",
        "\n"
      ]
    },
    {
      "cell_type": "code",
      "metadata": {
        "id": "VU2mUP9TUPMV"
      },
      "source": [
        ""
      ],
      "execution_count": null,
      "outputs": []
    },
    {
      "cell_type": "code",
      "metadata": {
        "id": "lcx1wWXbUNnc"
      },
      "source": [
        ""
      ],
      "execution_count": null,
      "outputs": []
    }
  ]
}